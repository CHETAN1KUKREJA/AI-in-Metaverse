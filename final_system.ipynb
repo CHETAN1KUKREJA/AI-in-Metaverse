{
 "cells": [
  {
   "cell_type": "code",
   "execution_count": 1,
   "metadata": {},
   "outputs": [
    {
     "name": "stderr",
     "output_type": "stream",
     "text": [
      "/home/student1/miniconda3/envs/llm_env_achal/lib/python3.9/site-packages/tqdm/auto.py:21: TqdmWarning: IProgress not found. Please update jupyter and ipywidgets. See https://ipywidgets.readthedocs.io/en/stable/user_install.html\n",
      "  from .autonotebook import tqdm as notebook_tqdm\n"
     ]
    }
   ],
   "source": [
    "import dspy"
   ]
  },
  {
   "cell_type": "code",
   "execution_count": 2,
   "metadata": {},
   "outputs": [],
   "source": [
    "lm = dspy.LM('ollama_chat/llama3.1:8b', api_base='http://localhost:11434', api_key='')\n",
    "dspy.configure(lm=lm)"
   ]
  },
  {
   "cell_type": "code",
   "execution_count": 3,
   "metadata": {},
   "outputs": [],
   "source": [
    "system_prompt = '''You will be given some tools and some context. Use those tool and context if needed to solve the task given to you. Do not do more than what is asked. Your answer must only contain the tool(s) you used and the arguments given to those functions in the form of a json. If no tool is used give a simple json with key as message and value as the answer.'''\n",
    "task = '''Go to the market and buy 5 apples?'''\n",
    "context = '''You are Bob and are currently at home.'''"
   ]
  },
  {
   "cell_type": "code",
   "execution_count": 4,
   "metadata": {},
   "outputs": [],
   "source": [
    "def goto(location:str):\n",
    "    '''\n",
    "    Go to a location based on the input. Possible locations are \"home\", \"market\", \"forest\"\n",
    "    \n",
    "    Args:\n",
    "    location (str): the location to go to\n",
    "    '''\n",
    "    \n",
    "    if location in [\"market\", \"forest\", \"home\"]:\n",
    "        return f\"You are now in the the {location}\"\n",
    "    \n",
    "    else:\n",
    "        return f\"Location {location} not found\"\n",
    "\n",
    "def pick_up(item:str):\n",
    "    '''\n",
    "    Pick up an item based on the input. Possible items are \"apple\", \"shield\", \"potion\"\n",
    "    \n",
    "    Args:\n",
    "    item (str): the item to pick up\n",
    "    '''\n",
    "    \n",
    "    if item in [\"apple\", \"shield\", \"potion\"]:\n",
    "        return f\"Picked up {item}\"\n",
    "    \n",
    "    else:\n",
    "        return f\"Item {item} not found\"\n",
    "\n",
    "def talk_to_person(person:str, message:str):\n",
    "    '''\n",
    "    Speak message to a person based on the input. Possible people are \"guard\", \"merchant\", \"wizard\"\n",
    "    \n",
    "    Args:\n",
    "    person (str): the person to speak to\n",
    "    message (str): the message to speak\n",
    "    '''\n",
    "    if person in [\"guard\", \"merchant\", \"wizard\"]:\n",
    "        return f\"Spoke to {person} and said: {message}\"\n",
    "    \n",
    "    else:\n",
    "        return f\"Person {person} not found\"\n",
    "\n",
    "def buy_item(item:str, quantity:int, price:int):\n",
    "    '''\n",
    "    Buy an item based on the input. Possible items are \"apple\", \"shield\", \"potion\"\n",
    "\n",
    "    Args:\n",
    "    item (str): the item to buy\n",
    "    quantity (int): the quantity of the item to buy\n",
    "    price (int): the price of the item\n",
    "    '''\n",
    "    if item in [\"apple\", \"shield\", \"potion\"]:\n",
    "        return f\"Bought {quantity} {item}(s) for {price} gold\"\n",
    "    \n",
    "    else:\n",
    "        return f\"Item {item} not found\"\n",
    "\n",
    "def agent_memory():\n",
    "    ''' Returns the agent's own memory\n",
    "    \n",
    "    Returns:\n",
    "    str: the agent's memory\n",
    "    '''\n",
    "    return '''Your name is Bob and are currently at home.'''\n",
    "\n",
    "tools = [goto, pick_up, buy_item, talk_to_person, agent_memory]"
   ]
  },
  {
   "cell_type": "code",
   "execution_count": 5,
   "metadata": {},
   "outputs": [],
   "source": [
    "gen = dspy.ReAct('system, context, task -> answer', tools=tools, max_iters=1)"
   ]
  },
  {
   "cell_type": "code",
   "execution_count": 6,
   "metadata": {},
   "outputs": [],
   "source": [
    "interaction = gen(system = system_prompt, task = task, context = context)"
   ]
  },
  {
   "cell_type": "code",
   "execution_count": 7,
   "metadata": {},
   "outputs": [
    {
     "name": "stdout",
     "output_type": "stream",
     "text": [
      "TRAJECTORY:\n",
      " {'thought_0': 'I need to go to the market first.', 'tool_name_0': 'goto', 'tool_args_0': {'location': 'market'}, 'observation_0': 'You are now in the the market'}\n",
      "\n",
      "RATIONALE:\n",
      " I will use the \"goto\" tool to move to the market, and then I will buy 5 apples.\n",
      "\n",
      "FINAL ANSWER:\n",
      " {\n",
      "  \"tools_used\": [\n",
      "    {\n",
      "      \"name\": \"goto\",\n",
      "      \"args\": {\"location\": \"market\"}\n",
      "    }\n",
      "  ],\n",
      "  \"message\": \"Buy 5 apples\"\n",
      "}\n"
     ]
    }
   ],
   "source": [
    "print(\"TRAJECTORY:\\n\", interaction['trajectory'])\n",
    "print()\n",
    "print(\"RATIONALE:\\n\",interaction['reasoning'])\n",
    "print()\n",
    "print(\"FINAL ANSWER:\\n\",interaction['answer'])"
   ]
  }
 ],
 "metadata": {
  "kernelspec": {
   "display_name": "llm_env_achal",
   "language": "python",
   "name": "python3"
  },
  "language_info": {
   "codemirror_mode": {
    "name": "ipython",
    "version": 3
   },
   "file_extension": ".py",
   "mimetype": "text/x-python",
   "name": "python",
   "nbconvert_exporter": "python",
   "pygments_lexer": "ipython3",
   "version": "3.9.21"
  }
 },
 "nbformat": 4,
 "nbformat_minor": 2
}
