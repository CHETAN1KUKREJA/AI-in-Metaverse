{
 "cells": [
  {
   "cell_type": "code",
   "execution_count": 2,
   "metadata": {},
   "outputs": [
    {
     "name": "stderr",
     "output_type": "stream",
     "text": [
      "/home/student1/miniconda3/envs/llm_env_achal/lib/python3.9/site-packages/tqdm/auto.py:21: TqdmWarning: IProgress not found. Please update jupyter and ipywidgets. See https://ipywidgets.readthedocs.io/en/stable/user_install.html\n",
      "  from .autonotebook import tqdm as notebook_tqdm\n"
     ]
    }
   ],
   "source": [
    "from memory_system.memory_system import AgentMemory"
   ]
  },
  {
   "cell_type": "code",
   "execution_count": 3,
   "metadata": {},
   "outputs": [],
   "source": [
    "base_client_path = \"./database/mem_test\"\n",
    "agent_name = \"alex\"\n",
    "mem = AgentMemory(base_client_path, agent_name)"
   ]
  },
  {
   "cell_type": "code",
   "execution_count": 8,
   "metadata": {},
   "outputs": [
    {
     "name": "stdout",
     "output_type": "stream",
     "text": [
      "Added 4 static memories successfully.\n"
     ]
    }
   ],
   "source": [
    "mem.static_memory.add(input_data=\"./agent_personalities/agent_alex.json\")"
   ]
  },
  {
   "cell_type": "code",
   "execution_count": 9,
   "metadata": {},
   "outputs": [
    {
     "name": "stdout",
     "output_type": "stream",
     "text": [
      "Error calling memory rating server: HTTPConnectionPool(host='127.0.0.1', port=5000): Max retries exceeded with url: /rate (Caused by NewConnectionError('<urllib3.connection.HTTPConnection object at 0x7bb0d0168dc0>: Failed to establish a new connection: [Errno 111] Connection refused'))\n",
      "Error calling memory rating server: HTTPConnectionPool(host='127.0.0.1', port=5000): Max retries exceeded with url: /rate (Caused by NewConnectionError('<urllib3.connection.HTTPConnection object at 0x7bb0d01680a0>: Failed to establish a new connection: [Errno 111] Connection refused'))\n",
      "Error calling memory rating server: HTTPConnectionPool(host='127.0.0.1', port=5000): Max retries exceeded with url: /rate (Caused by NewConnectionError('<urllib3.connection.HTTPConnection object at 0x7bb0d0142dc0>: Failed to establish a new connection: [Errno 111] Connection refused'))\n",
      "Added 3 short term memories successfully.\n"
     ]
    }
   ],
   "source": [
    "mem.add_short_term(input_data=\"./agent_personalities/agent_alex_short_mem.json\")"
   ]
  },
  {
   "cell_type": "code",
   "execution_count": 10,
   "metadata": {},
   "outputs": [
    {
     "data": {
      "text/plain": [
       "{'static_memory': {'memory_size': 4,\n",
       "  'memory_ids': ['char_1', 'rule_1', 'env_1', 'rule_2']},\n",
       " 'short_term_memory': {'memory_size': 3,\n",
       "  'memory_ids': ['exp_1', 'exp_2', 'exp_3']},\n",
       " 'long_term_memory': {'memory_size': 0, 'memory_ids': []},\n",
       " 'plan_memory': {'memory_size': 0, 'memory_ids': []},\n",
       " 'reflection_memory': {'memory_size': 0, 'memory_ids': []}}"
      ]
     },
     "execution_count": 10,
     "metadata": {},
     "output_type": "execute_result"
    }
   ],
   "source": [
    "mem.get_stats()"
   ]
  },
  {
   "cell_type": "code",
   "execution_count": null,
   "metadata": {},
   "outputs": [],
   "source": [
    "mem.reflect_from_recent_memory(top_k=2)"
   ]
  },
  {
   "cell_type": "code",
   "execution_count": null,
   "metadata": {},
   "outputs": [],
   "source": [
    "mem.plan_from_memory()"
   ]
  },
  {
   "cell_type": "code",
   "execution_count": 15,
   "metadata": {},
   "outputs": [
    {
     "name": "stdout",
     "output_type": "stream",
     "text": [
      "Successfully migrated memory from short-term to long-term: Timestamp: 2023-10-02T14:30:00Z, Location: Forest, Interaction: Observed wildlife and noted changes in animal behavior due to seasonal shifts, Actions: Set up camera traps to monitor animal movements, Responses: Noticed an increase in nocturnal activity among certain species\n"
     ]
    }
   ],
   "source": [
    "mem.stm_size = 1\n",
    "mem.migrate_stm2ltm()"
   ]
  },
  {
   "cell_type": "code",
   "execution_count": 11,
   "metadata": {},
   "outputs": [
    {
     "name": "stdout",
     "output_type": "stream",
     "text": [
      "2.9999999999981437\n",
      "2.999999999999536\n",
      "2.9999999999993037\n"
     ]
    }
   ],
   "source": [
    "context = mem.query_memory(\"What is your name?\", threshold=0.4)"
   ]
  },
  {
   "cell_type": "code",
   "execution_count": 12,
   "metadata": {},
   "outputs": [
    {
     "name": "stdout",
     "output_type": "stream",
     "text": [
      "Context for Prompt: 'What is your name?'\n",
      "\n",
      "[Document 1]:\n",
      "Timestamp: 2023-10-01T10:00:00Z, Location: Coastal Town, Interaction: Met with local fishermen to discuss the impact of recent storms on fish populations, Actions: Collected water samples for analysis, Responses: Fishermen expressed concerns about declining fish stocks\n",
      "---\n",
      "[Document 2]:\n",
      "Timestamp: 2023-10-02T14:30:00Z, Location: Forest, Interaction: Observed wildlife and noted changes in animal behavior due to seasonal shifts, Actions: Set up camera traps to monitor animal movements, Responses: Noticed an increase in nocturnal activity among certain species\n",
      "---\n",
      "[Document 3]:\n",
      "Timestamp: 2023-10-03T09:00:00Z, Location: Research Lab, Interaction: Analyzed water samples collected from the coastal town, Actions: Conducted tests to measure pollution levels, Responses: Found elevated levels of contaminants, likely from recent industrial activity\n",
      "---\n",
      "[Document 4]:\n",
      "Name: Alex, Age: 25, Role: Warrior\n"
     ]
    }
   ],
   "source": [
    "print(context)"
   ]
  },
  {
   "cell_type": "code",
   "execution_count": 6,
   "metadata": {},
   "outputs": [],
   "source": [
    "mem.reset_memory()"
   ]
  },
  {
   "cell_type": "code",
   "execution_count": 16,
   "metadata": {},
   "outputs": [
    {
     "data": {
      "text/plain": [
       "{'static_memory': {'memory_size': 4,\n",
       "  'memory_ids': ['char_1', 'rule_1', 'env_1', 'rule_2']},\n",
       " 'short_term_memory': {'memory_size': 1, 'memory_ids': ['exp_3']},\n",
       " 'long_term_memory': {'memory_size': 2,\n",
       "  'memory_ids': ['ltm_2025-01-19T09:45:32.631742',\n",
       "   'ltm_2025-01-19T09:45:32.632989']},\n",
       " 'plan_memory': {'memory_size': 0, 'memory_ids': []},\n",
       " 'reflection_memory': {'memory_size': 0, 'memory_ids': []}}"
      ]
     },
     "execution_count": 16,
     "metadata": {},
     "output_type": "execute_result"
    }
   ],
   "source": [
    "mem.get_stats()"
   ]
  }
 ],
 "metadata": {
  "kernelspec": {
   "display_name": "llm_env_achal",
   "language": "python",
   "name": "python3"
  },
  "language_info": {
   "codemirror_mode": {
    "name": "ipython",
    "version": 3
   },
   "file_extension": ".py",
   "mimetype": "text/x-python",
   "name": "python",
   "nbconvert_exporter": "python",
   "pygments_lexer": "ipython3",
   "version": "3.9.21"
  }
 },
 "nbformat": 4,
 "nbformat_minor": 2
}
