{
 "cells": [
  {
   "cell_type": "code",
   "execution_count": 1,
   "metadata": {},
   "outputs": [
    {
     "name": "stderr",
     "output_type": "stream",
     "text": [
      "/home/student1/miniconda3/envs/llm_env_achal/lib/python3.9/site-packages/tqdm/auto.py:21: TqdmWarning: IProgress not found. Please update jupyter and ipywidgets. See https://ipywidgets.readthedocs.io/en/stable/user_install.html\n",
      "  from .autonotebook import tqdm as notebook_tqdm\n"
     ]
    }
   ],
   "source": [
    "from memory_system.memory_system import AgentMemory"
   ]
  },
  {
   "cell_type": "code",
   "execution_count": 2,
   "metadata": {},
   "outputs": [],
   "source": [
    "base_client_path = \"./database/mem_test\"\n",
    "agent_name = \"alex\"\n",
    "mem = AgentMemory(base_client_path, agent_name)"
   ]
  },
  {
   "cell_type": "code",
   "execution_count": 3,
   "metadata": {},
   "outputs": [
    {
     "name": "stdout",
     "output_type": "stream",
     "text": [
      "Traceback (most recent call last):\n",
      "  File \"/home/student1/miniconda3/envs/llm_env_achal/lib/python3.9/site-packages/huggingface_hub/utils/_http.py\", line 406, in hf_raise_for_status\n",
      "    response.raise_for_status()\n",
      "  File \"/home/student1/miniconda3/envs/llm_env_achal/lib/python3.9/site-packages/requests/models.py\", line 1024, in raise_for_status\n",
      "    raise HTTPError(http_error_msg, response=self)\n",
      "requests.exceptions.HTTPError: 401 Client Error: Unauthorized for url: https://huggingface.co/api/whoami-v2\n",
      "\n",
      "The above exception was the direct cause of the following exception:\n",
      "\n",
      "Traceback (most recent call last):\n",
      "  File \"/home/student1/miniconda3/envs/llm_env_achal/lib/python3.9/site-packages/huggingface_hub/hf_api.py\", line 1633, in whoami\n",
      "    hf_raise_for_status(r)\n",
      "  File \"/home/student1/miniconda3/envs/llm_env_achal/lib/python3.9/site-packages/huggingface_hub/utils/_http.py\", line 477, in hf_raise_for_status\n",
      "    raise _format(HfHubHTTPError, str(e), response) from e\n",
      "huggingface_hub.errors.HfHubHTTPError: 401 Client Error: Unauthorized for url: https://huggingface.co/api/whoami-v2 (Request ID: Root=1-6792bb7a-0fc9822a14f3be5d284952ec;e13b355c-a676-4ff0-8439-0d49431e5335)\n",
      "\n",
      "Invalid username or password.\n",
      "\n",
      "The above exception was the direct cause of the following exception:\n",
      "\n",
      "Traceback (most recent call last):\n",
      "  File \"/home/student1/Achal_LLM_Testing/memory_system/memory_system/server/server.py\", line 14, in <module>\n",
      "    login(token)\n",
      "  File \"/home/student1/miniconda3/envs/llm_env_achal/lib/python3.9/site-packages/huggingface_hub/utils/_deprecation.py\", line 101, in inner_f\n",
      "    return f(*args, **kwargs)\n",
      "  File \"/home/student1/miniconda3/envs/llm_env_achal/lib/python3.9/site-packages/huggingface_hub/utils/_deprecation.py\", line 31, in inner_f\n",
      "    return f(*args, **kwargs)\n",
      "  File \"/home/student1/miniconda3/envs/llm_env_achal/lib/python3.9/site-packages/huggingface_hub/_login.py\", line 126, in login\n",
      "    _login(token, add_to_git_credential=add_to_git_credential)\n",
      "  File \"/home/student1/miniconda3/envs/llm_env_achal/lib/python3.9/site-packages/huggingface_hub/_login.py\", line 404, in _login\n",
      "    token_info = whoami(token)\n",
      "  File \"/home/student1/miniconda3/envs/llm_env_achal/lib/python3.9/site-packages/huggingface_hub/utils/_validators.py\", line 114, in _inner_fn\n",
      "    return fn(*args, **kwargs)\n",
      "  File \"/home/student1/miniconda3/envs/llm_env_achal/lib/python3.9/site-packages/huggingface_hub/hf_api.py\", line 1635, in whoami\n",
      "    raise HTTPError(\n",
      "requests.exceptions.HTTPError: Invalid user token. If you didn't pass a user token, make sure you are properly logged in by executing `huggingface-cli login`, and if you did pass a user token, double-check it's correct.\n"
     ]
    }
   ],
   "source": [
    "# !python memory_system/server/server.py                Run this command in a separate terminal to start the server. Also make sure to add your token in the server.py file. "
   ]
  },
  {
   "cell_type": "code",
   "execution_count": 4,
   "metadata": {},
   "outputs": [
    {
     "name": "stdout",
     "output_type": "stream",
     "text": [
      "Added 4 static memories successfully.\n"
     ]
    }
   ],
   "source": [
    "mem.static_memory.add(input_data=\"./agent_personalities/agent_alex.json\")"
   ]
  },
  {
   "cell_type": "code",
   "execution_count": 5,
   "metadata": {},
   "outputs": [
    {
     "name": "stdout",
     "output_type": "stream",
     "text": [
      "Error calling memory rating server: HTTPConnectionPool(host='127.0.0.1', port=5000): Max retries exceeded with url: /rate (Caused by NewConnectionError('<urllib3.connection.HTTPConnection object at 0x7ff952fd8520>: Failed to establish a new connection: [Errno 111] Connection refused'))\n",
      "Error calling memory rating server: HTTPConnectionPool(host='127.0.0.1', port=5000): Max retries exceeded with url: /rate (Caused by NewConnectionError('<urllib3.connection.HTTPConnection object at 0x7ff952fd8940>: Failed to establish a new connection: [Errno 111] Connection refused'))\n",
      "Error calling memory rating server: HTTPConnectionPool(host='127.0.0.1', port=5000): Max retries exceeded with url: /rate (Caused by NewConnectionError('<urllib3.connection.HTTPConnection object at 0x7ff90e4c3a90>: Failed to establish a new connection: [Errno 111] Connection refused'))\n",
      "Added 3 short term memories successfully.\n"
     ]
    }
   ],
   "source": [
    "mem.add_short_term(input_data=\"./agent_personalities/agent_alex_short_mem.json\")"
   ]
  },
  {
   "cell_type": "code",
   "execution_count": 6,
   "metadata": {},
   "outputs": [
    {
     "data": {
      "text/plain": [
       "{'static_memory': {'memory_size': 4,\n",
       "  'memory_ids': ['char_1', 'rule_1', 'env_1', 'rule_2']},\n",
       " 'short_term_memory': {'memory_size': 3,\n",
       "  'memory_ids': ['exp_1', 'exp_2', 'exp_3']},\n",
       " 'long_term_memory': {'memory_size': 0, 'memory_ids': []},\n",
       " 'plan_memory': {'memory_size': 0, 'memory_ids': []},\n",
       " 'reflection_memory': {'memory_size': 0, 'memory_ids': []}}"
      ]
     },
     "execution_count": 6,
     "metadata": {},
     "output_type": "execute_result"
    }
   ],
   "source": [
    "mem.get_stats()"
   ]
  },
  {
   "cell_type": "code",
   "execution_count": null,
   "metadata": {},
   "outputs": [],
   "source": [
    "mem.reflect_from_recent_memory(top_k=2)"
   ]
  },
  {
   "cell_type": "code",
   "execution_count": null,
   "metadata": {},
   "outputs": [],
   "source": [
    "mem.plan_from_memory()"
   ]
  },
  {
   "cell_type": "code",
   "execution_count": 7,
   "metadata": {},
   "outputs": [
    {
     "name": "stdout",
     "output_type": "stream",
     "text": [
      "Successfully migrated memory from short-term to long-term: Timestamp: 2023-10-01T10:00:00Z, Location: Coastal Town, Interaction: Met with local fishermen to discuss the impact of recent storms on fish populations, Actions: Collected water samples for analysis, Responses: Fishermen expressed concerns about declining fish stocks\n",
      "Successfully migrated memory from short-term to long-term: Timestamp: 2023-10-02T14:30:00Z, Location: Forest, Interaction: Observed wildlife and noted changes in animal behavior due to seasonal shifts, Actions: Set up camera traps to monitor animal movements, Responses: Noticed an increase in nocturnal activity among certain species\n"
     ]
    }
   ],
   "source": [
    "mem.stm_size = 1\n",
    "mem.migrate_stm2ltm()"
   ]
  },
  {
   "cell_type": "code",
   "execution_count": 8,
   "metadata": {},
   "outputs": [
    {
     "name": "stdout",
     "output_type": "stream",
     "text": [
      "2.9999999999993037\n"
     ]
    }
   ],
   "source": [
    "context = mem.query_memory(\"What is your name?\", threshold=0.4)"
   ]
  },
  {
   "cell_type": "code",
   "execution_count": 9,
   "metadata": {},
   "outputs": [
    {
     "name": "stdout",
     "output_type": "stream",
     "text": [
      "Context for Prompt: 'What is your name?'\n",
      "\n",
      "[Document 1]:\n",
      "Timestamp: 2023-10-03T09:00:00Z, Location: Research Lab, Interaction: Analyzed water samples collected from the coastal town, Actions: Conducted tests to measure pollution levels, Responses: Found elevated levels of contaminants, likely from recent industrial activity\n",
      "---\n",
      "[Document 2]:\n",
      "Name: Alex, Age: 25, Role: Warrior\n"
     ]
    }
   ],
   "source": [
    "print(context)"
   ]
  },
  {
   "cell_type": "code",
   "execution_count": 10,
   "metadata": {},
   "outputs": [],
   "source": [
    "mem.reset_memory()"
   ]
  },
  {
   "cell_type": "code",
   "execution_count": 11,
   "metadata": {},
   "outputs": [
    {
     "data": {
      "text/plain": [
       "{'static_memory': {'memory_size': 0, 'memory_ids': []},\n",
       " 'short_term_memory': {'memory_size': 0, 'memory_ids': []},\n",
       " 'long_term_memory': {'memory_size': 0, 'memory_ids': []},\n",
       " 'plan_memory': {'memory_size': 0, 'memory_ids': []},\n",
       " 'reflection_memory': {'memory_size': 0, 'memory_ids': []}}"
      ]
     },
     "execution_count": 11,
     "metadata": {},
     "output_type": "execute_result"
    }
   ],
   "source": [
    "mem.get_stats()"
   ]
  }
 ],
 "metadata": {
  "kernelspec": {
   "display_name": "llm_env_achal",
   "language": "python",
   "name": "python3"
  },
  "language_info": {
   "codemirror_mode": {
    "name": "ipython",
    "version": 3
   },
   "file_extension": ".py",
   "mimetype": "text/x-python",
   "name": "python",
   "nbconvert_exporter": "python",
   "pygments_lexer": "ipython3",
   "version": "3.9.21"
  }
 },
 "nbformat": 4,
 "nbformat_minor": 2
}
